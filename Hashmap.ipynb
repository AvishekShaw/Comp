{
 "cells": [
  {
   "cell_type": "code",
   "execution_count": 37,
   "metadata": {},
   "outputs": [],
   "source": [
    "class Hashmap():\n",
    "    def __init__(self,size):\n",
    "        self.size = size\n",
    "        self.buckets = [[] for _ in range(self.size)]\n",
    "\n",
    "    def get_hash(self,key):\n",
    "        return hash(key) % self.size\n",
    "\n",
    "    def get_bucket(self,key):\n",
    "        bucket_index = self.get_hash(key)\n",
    "        bucket = self.buckets[bucket_index]\n",
    "        return bucket        \n",
    "\n",
    "    def put(self, key, value):\n",
    "        bucket = self.get_bucket(key)\n",
    "        for i in bucket:\n",
    "            if i[0] == key:\n",
    "                if i[1] == value:\n",
    "                    return\n",
    "        bucket.append([key, value])\n",
    "\n",
    "    def get(self,key):\n",
    "        bucket = self.get_bucket(key)\n",
    "        for i in bucket:\n",
    "            if i[0] == key:\n",
    "                return i[1]\n",
    "    \n",
    "    def remove(self,key):\n",
    "        bucket = self.get_bucket(key)\n",
    "        for i,item in enumerate(bucket):\n",
    "            if item[0] == key:\n",
    "                bucket.pop(i)\n",
    "\n",
    "    def print_keys(self):\n",
    "        for bucket in self.buckets:\n",
    "            if bucket:\n",
    "                for item in bucket:\n",
    "                    print(item[0])\n"
   ]
  },
  {
   "cell_type": "code",
   "execution_count": 40,
   "metadata": {},
   "outputs": [
    {
     "name": "stdout",
     "output_type": "stream",
     "text": [
      "16\n",
      "12\n",
      "5\n",
      "7\n"
     ]
    }
   ],
   "source": [
    "hashmap = Hashmap(16)\n",
    "print(hashmap.size)\n",
    "print(hashmap.get_hash(444))\n",
    "hashmap.put(5, 15)\n",
    "hashmap.put(5, 15)\n",
    "hashmap.put(7, 15)\n",
    "hashmap.put(5, 15)\n",
    "# hashmap.get(7)\n",
    "# hashmap.remove(7)\n",
    "hashmap.print_keys()"
   ]
  },
  {
   "cell_type": "code",
   "execution_count": 34,
   "metadata": {},
   "outputs": [
    {
     "data": {
      "text/plain": [
       "[[], [], [], [], [], [[5, 15]], [], [], [], [], [], [], [], [], [], []]"
      ]
     },
     "execution_count": 34,
     "metadata": {},
     "output_type": "execute_result"
    }
   ],
   "source": [
    "hashmap.buckets"
   ]
  },
  {
   "cell_type": "code",
   "execution_count": null,
   "metadata": {},
   "outputs": [],
   "source": []
  }
 ],
 "metadata": {
  "kernelspec": {
   "display_name": "base",
   "language": "python",
   "name": "python3"
  },
  "language_info": {
   "codemirror_mode": {
    "name": "ipython",
    "version": 3
   },
   "file_extension": ".py",
   "mimetype": "text/x-python",
   "name": "python",
   "nbconvert_exporter": "python",
   "pygments_lexer": "ipython3",
   "version": "3.8.5"
  },
  "orig_nbformat": 4,
  "vscode": {
   "interpreter": {
    "hash": "ffb0cf131d14546b6573224cf3d27e75f0df2bb31d92400f13c23c2c4abb6933"
   }
  }
 },
 "nbformat": 4,
 "nbformat_minor": 2
}
